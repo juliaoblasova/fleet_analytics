{
  "nbformat": 4,
  "nbformat_minor": 0,
  "metadata": {
    "colab": {
      "name": "High_tips",
      "provenance": []
    },
    "kernelspec": {
      "display_name": "Python 3",
      "name": "python3"
    }
  },
  "cells": [
    {
      "cell_type": "code",
      "metadata": {
        "id": "BcNwXIBKlnjX"
      },
      "source": [
        "from google.colab import auth, files, drive\n",
        "auth.authenticate_user()\n",
        "print('Authenticated')"
      ],
      "execution_count": null,
      "outputs": []
    },
    {
      "cell_type": "code",
      "metadata": {
        "id": "R1UE_qocl3Dc"
      },
      "source": [
        "import pandas as pd\n",
        "import numpy as np\n",
        "import datetime\n",
        "from datetime import datetime\n",
        "import os\n",
        "import matplotlib.pyplot as plt\n",
        "import seaborn as sns\n",
        "\n",
        "from google.cloud import bigquery\n",
        "client = bigquery.Client(project='datafall-fulfillment')\n",
        "date = datetime.strftime(datetime.now(), \"%m%d%y\")"
      ],
      "execution_count": null,
      "outputs": []
    },
    {
      "cell_type": "code",
      "metadata": {
        "id": "a1BXoM1gxqrQ"
      },
      "source": [
        "query= \"\"\"SELECT * FROM (\n",
        "  \n",
        "SELECT *, courier_uuid, market_id, total_earnings/total_active_time as earn_hour,  total_deliveries/total_active_time as deliveries_hour FROM \n",
        "(SELECT courier_uuid, market_id, sum(base_earnings) as total_earnings, sum(total_gps_time)/60 as total_active_time, sum(num_deliveries) as total_deliveries, sum(tip_earnings) as tips, \n",
        "sum(incentives_earnings) as incentives from `datafall-fulfillment.xlavenir_sandbox.courier_sessions_v6` \n",
        "\n",
        "GROUP BY courier_uuid, market_id) as tot_time\n",
        "WHERE total_active_time>0 ) AS t\n",
        "WHERE earn_hour>18.7;\"\"\"\n",
        "\n",
        "df = client.query(query).to_dataframe()"
      ],
      "execution_count": null,
      "outputs": []
    },
    {
      "cell_type": "markdown",
      "metadata": {
        "id": "zWBKGFrAAdp4"
      },
      "source": [
        "The dataframe is grouped by courier id, so each row contains information about total deliveries completed by a driver along with his or her total earnings, tips, and active time. Note: we only filtered out high-earnings drivers with income higher than $18.2 $/hour.\n",
        "\n",
        "To start, we exclude market 73 (Mexico city) and calculate 1) tips' percentage of total postmate's earnings 2). average tip per delivery."
      ]
    },
    {
      "cell_type": "code",
      "metadata": {
        "id": "wmM-fjjLAPn3"
      },
      "source": [
        "df=df[df['market_id']!=73]\n",
        "df['perc_tips_earnings']=df['tips'].astype(float)/df['total_earnings']\n",
        "df['tips_delivery']=df['tips']/df['total_deliveries']"
      ],
      "execution_count": null,
      "outputs": []
    },
    {
      "cell_type": "markdown",
      "metadata": {
        "id": "Ggrl2PuxAg5V"
      },
      "source": [
        "Our next step to visualize tips earnings.\n"
      ]
    },
    {
      "cell_type": "code",
      "metadata": {
        "id": "E7F9_fPbK6EP"
      },
      "source": [
        "g=sns.scatterplot(data=df, x='total_earnings', y=\"tips\")\n",
        "plt.xlabel(\"Total earnings\")\n",
        "plt.ylabel(\"Tips\")\n",
        "plt.title(\"Couriers total earnings vs tips\")\n",
        "plt.show(g)"
      ],
      "execution_count": null,
      "outputs": []
    },
    {
      "cell_type": "markdown",
      "metadata": {
        "id": "G1cMsbizCJI6"
      },
      "source": [
        "While it's reasonable that tips amount is correlated with total earnings, we observe three outlying observations with exceptionally high percentage of tips. Let's approach it from a different perspective and plot tips per delivery vs total earnings."
      ]
    },
    {
      "cell_type": "code",
      "metadata": {
        "id": "z1DTat_fFUXk"
      },
      "source": [
        "import plotly.express as px\n",
        "fig = px.scatter(df, x=\"total_earnings\", y=\"tips_delivery\", hover_data=['courier_uuid'])\n",
        "fig.show()"
      ],
      "execution_count": null,
      "outputs": []
    },
    {
      "cell_type": "markdown",
      "metadata": {
        "id": "tuZUTu1mGoy5"
      },
      "source": [
        "From two graphs above we can observe three drivers with very high percentage of tips out of their total earnings along with high tips per delivery (~$200)."
      ]
    },
    {
      "cell_type": "code",
      "metadata": {
        "id": "iUM9i2rKSKKN"
      },
      "source": [
        "couriers=df[df['perc_tips_earnings']>60]['courier_uuid']\n",
        "\n",
        "query= \"\"\"\n",
        "  \n",
        "SELECT * FROM `datafall-fulfillment.xlavenir_sandbox.courier_sessions_v6` \n",
        "WHERE courier_uuid='ecc08fb9-a014-460e-b18e-a2f5c7b3d7f1' or courier_uuid='696b6cc4-44ac-4f55-b54f-c4220dbea670' or courier_uuid='55474e85-ce2d-4461-840f-14720be7723a' \"\"\"\n",
        "\n",
        "df1 = client.query(query).to_dataframe()\n"
      ],
      "execution_count": null,
      "outputs": []
    },
    {
      "cell_type": "code",
      "metadata": {
        "id": "ztbn_65ltDUz"
      },
      "source": [
        "avg_tips=np.mean(df1['tip_earnings'].astype(\"float\") / df1['earnings'].astype(\"float\"))\n",
        "print ('For these drivers', np.round(avg_tips*100,0), '% of their income comes from the tips')"
      ],
      "execution_count": null,
      "outputs": []
    },
    {
      "cell_type": "markdown",
      "metadata": {
        "id": "muKCOfEZdnrk"
      },
      "source": [
        "Let's not see in what markets these drivers operate and how many deliveries each of them have completed. \n"
      ]
    },
    {
      "cell_type": "code",
      "metadata": {
        "id": "piidvo5XdnO2"
      },
      "source": [
        "markets=df1.groupby(['market'])['num_deliveries'].agg('sum').reset_index().sort_values(by='num_deliveries', ascending=False)\n",
        "sns.barplot(x=\"market\", y=\"num_deliveries\", data=markets)\n",
        "plt.title(\"Deliveries across markets\")"
      ],
      "execution_count": null,
      "outputs": []
    },
    {
      "cell_type": "code",
      "metadata": {
        "id": "j_WrXi2_UDN0"
      },
      "source": [
        "couriers = \"\"\"SELECT * FROM datafall-fulfillment.model_v0.fct_deliveries_v0 WHERE courier_uuid='ecc08fb9-a014-460e-b18e-a2f5c7b3d7f1' or courier_uuid='55474e85-ce2d-4461-840f-14720be7723a' \n",
        "or courier_uuid='696b6cc4-44ac-4f55-b54f-c4220dbea670' \"\"\"\n",
        "couriers = client.query(couriers).to_dataframe()"
      ],
      "execution_count": null,
      "outputs": []
    },
    {
      "cell_type": "code",
      "metadata": {
        "id": "Rb5ryRzLhx6x"
      },
      "source": [
        "print ('Are any of the completed deliveries part of chain or a batch?', np.unique(couriers.is_chain), np.unique(couriers.is_batch))\n",
        "print ('What\\'s the vehicle type?', np.unique(couriers.vehicle_type))"
      ],
      "execution_count": null,
      "outputs": []
    },
    {
      "cell_type": "markdown",
      "metadata": {
        "id": "tJPFYxOjiEWD"
      },
      "source": [
        "None of the completed deliveries are part of a chaining or batching and all of them are delivered by bike."
      ]
    },
    {
      "cell_type": "code",
      "metadata": {
        "id": "OuK39NBeVvt5"
      },
      "source": [
        "df3=pd.DataFrame(columns=['pickup', 'dropoff'])\n",
        "pickups=[]\n",
        "dropoffs=[]\n",
        "\n",
        "for index, row in couriers.iterrows(): \n",
        "  pickups.append(couriers['waypoint_details'][index][0]['waypoint_uuid'])\n",
        "  dropoffs.append(couriers['waypoint_details'][index][1]['waypoint_uuid'])\n",
        "df3['pickup']=pickups\n",
        "df3['dropoff']=dropoffs\n",
        "\n",
        "df3['pickup']=df3.pickup.str.replace('pickup:', '')\n",
        "df3['dropoff']=df3.dropoff.str.replace('dropoff:', '')\n",
        "df3[df3['pickup']!=df3['dropoff']]"
      ],
      "execution_count": null,
      "outputs": []
    },
    {
      "cell_type": "markdown",
      "metadata": {
        "id": "DC_UtMckilM7"
      },
      "source": [
        "For all of the deliveries, pick up and dropoff location were exactly the same."
      ]
    },
    {
      "cell_type": "code",
      "metadata": {
        "id": "yrYnziTZnrTs"
      },
      "source": [
        "print ('All of these deliveries were completed between', np.min(couriers['delivery_assign_ts']), 'and ', np.max(couriers['delivery_assign_ts']))"
      ],
      "execution_count": null,
      "outputs": []
    },
    {
      "cell_type": "markdown",
      "metadata": {
        "id": "GMKg_6cEjBJW"
      },
      "source": [
        "Now let's see who are the customers who is placing these orders."
      ]
    },
    {
      "cell_type": "code",
      "metadata": {
        "id": "UCPTPi4Dd5kO"
      },
      "source": [
        "deliveries=couriers.delivery_uuid\t\n",
        "q3=\"\"\"SELECT delivery_uuid, customer_id FROM datafall-fulfillment.mark_sandbox.delivery_payloads WHERE job_date>='2019-08-13' and  job_date<='2019-08-25'\"\"\"\n",
        "customers = client.query(q3).to_dataframe()\n",
        "fraud=couriers.merge(customers, on='delivery_uuid', how='left')\n",
        "fraud=fraud[['delivery_uuid','courier_uuid','customer_id']]"
      ],
      "execution_count": null,
      "outputs": []
    },
    {
      "cell_type": "code",
      "metadata": {
        "id": "TXGvd54HjjLN"
      },
      "source": [
        "print ('All of these deliveries were placed by one customer:', np.unique(fraud['customer_id']))"
      ],
      "execution_count": null,
      "outputs": []
    },
    {
      "cell_type": "markdown",
      "metadata": {
        "id": "YNd3qkiNj0h5"
      },
      "source": [
        "Based on everything described above, we suspect that these are fraudulent transactions. While the company was not affected, we still may want to investigate this kind of fraudulent activity further."
      ]
    }
  ]
}