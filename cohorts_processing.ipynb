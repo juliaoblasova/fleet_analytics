{
  "nbformat": 4,
  "nbformat_minor": 0,
  "metadata": {
    "colab": {
      "name": "cohorts_processing.ipynb",
      "provenance": [],
      "collapsed_sections": []
    },
    "kernelspec": {
      "name": "python3",
      "display_name": "Python 3"
    }
  },
  "cells": [
    {
      "cell_type": "code",
      "metadata": {
        "colab": {
          "base_uri": "https://localhost:8080/"
        },
        "id": "uU_hTYMnhqO9",
        "outputId": "7fd66551-208c-4601-8079-c12d68bd0742"
      },
      "source": [
        "from google.colab import auth, files, drive\n",
        "auth.authenticate_user()\n",
        "print('Authenticated')"
      ],
      "execution_count": 1,
      "outputs": [
        {
          "output_type": "stream",
          "text": [
            "Authenticated\n"
          ],
          "name": "stdout"
        }
      ]
    },
    {
      "cell_type": "code",
      "metadata": {
        "id": "qqx2DLXIiLVV"
      },
      "source": [
        "import pandas as pd\n",
        "import numpy as np\n",
        "import datetime\n",
        "from datetime import datetime\n",
        "import os\n",
        "from google.cloud import bigquery\n",
        "client = bigquery.Client(project='datafall-fulfillment')\n",
        "date = datetime.strftime(datetime.now(), \"%m%d%y\")\n",
        "\n",
        "today=datetime.today().strftime('%m_%d_%y')"
      ],
      "execution_count": 2,
      "outputs": []
    },
    {
      "cell_type": "code",
      "metadata": {
        "id": "YDLRdQe1iatK"
      },
      "source": [
        "market_query = \"\"\"\n",
        "select distinct id as market_id, name as market,timezone from \n",
        "`datafall-prod`.postal_main.core_market \n",
        "\"\"\"\n",
        "markets = client.query(market_query).to_dataframe()\n",
        "\n",
        "date = datetime.strftime(datetime.now(), \"%m%d%y\")\n",
        "os.makedirs(date + '_downloads')"
      ],
      "execution_count": 3,
      "outputs": []
    },
    {
      "cell_type": "code",
      "metadata": {
        "id": "yr7ggjpljZN9"
      },
      "source": [
        "courier_query = \"\"\"\n",
        "SELECT distinct uuid as courier_uuid, total_jobs, last_job_dt FROM `datafall-prod.postal_main.core_courier` prod\n",
        "\n",
        "LEFT JOIN \n",
        "(select courier_uuid\n",
        "     , max(job_dt_local) as last_job_dt\n",
        "  from `postmates-reporting`.stats.job j\n",
        " where complete is true\n",
        "   and date(job_dt_local) >='2018-10-01'\n",
        "   and date(job_dt_local) < date(current_timestamp())\n",
        "     and j.fsm_state in ('DidCompleteDropoff','DidAdminCancel','DidCustomerCancel','DidDispatchCancel','DidDispatchRequestException')\n",
        "    and j.fraud_canceled is false\n",
        "    and j.charge_state != 'auth_failed'\n",
        "    and j.is_pickup is false\n",
        "    and j.is_return_job is false\n",
        " group by 1\n",
        " order by 1) AS last_job\n",
        " \n",
        "ON prod.uuid=last_job.courier_uuid\n",
        "\n",
        "where date(date_created)>'2018-09-01'\n",
        "\"\"\"\n",
        "couriers = client.query(courier_query).to_dataframe()\n",
        "\n",
        "#Quality Checks\n",
        "market_query = \"\"\"\n",
        "select distinct id as market_id, name,timezone from \n",
        "`datafall-prod`.postal_main.core_market \n",
        "\"\"\"\n",
        "markets = client.query(market_query).to_dataframe()\n",
        "\n",
        "today=datetime.today().strftime('%m_%d_%y')"
      ],
      "execution_count": 4,
      "outputs": []
    },
    {
      "cell_type": "code",
      "metadata": {
        "id": "YOiVJxMcUoNu"
      },
      "source": [
        "def enrollment(name):\n",
        "    os.chdir('/content/121120_downloads/')\n",
        "\n",
        "    incentive_name=name.split('_')[3]\n",
        "    canvas=str(today)+'_canvas_'+incentive_name+'_v1'\n",
        "    variant=canvas=str(today)+'_variant_'+incentive_name+'_v1'\n",
        "    path=os.getcwd()\n",
        "\n",
        "    df = pd.read_csv(name)\n",
        "   \n",
        "    df['courier_uuid']=df['user_id']\n",
        "    df['canvas_id']=canvas\n",
        "    df['variant_id']=variant\n",
        "    df['market_id']=df['Market ID']\n",
        "\n",
        "\n",
        "\n",
        "    df=df[['courier_uuid','market_id','canvas_id','variant_id']]\n",
        "    df=df.drop_duplicates()\n",
        "\n",
        "    df.to_csv(name)"
      ],
      "execution_count": 39,
      "outputs": []
    },
    {
      "cell_type": "code",
      "metadata": {
        "id": "65slARlJjhR4"
      },
      "source": [
        "def checks(name):\n",
        "    df = pd.read_csv(name)\n",
        "    qc=pd.merge(df,markets,  on=['market_id'])\n",
        "    qc=pd.merge(qc,couriers,  on='courier_uuid',how='left')\n",
        "    qc_final = qc.groupby(['name']).agg({'courier_uuid':'count', 'total_jobs':'mean'}).sort_values(by='courier_uuid', ascending=False)#.to_frame().reset_index()\n",
        "\n",
        "    qc_total = qc.groupby(['canvas_id']).courier_uuid.count().sort_values(ascending=False).to_frame().reset_index()\n",
        "\n",
        "    l28=qc[qc['last_job_dt']>='2020-11-08']\n",
        "    l28=l28.groupby('market')['courier_uuid'].count().reset_index()\n",
        "    l28=l28.rename(columns={\"market\": \"name\", 'courier_uuid':'L28'})\n",
        "\n",
        "    more_than_28=qc[qc['last_job_dt']<'2020-11-08']\n",
        "    more_than_28=more_than_28.groupby('market')['courier_uuid'].count().reset_index()\n",
        "    more_than_28=more_than_28.rename(columns={\"market\": \"name\", 'courier_uuid':'More than 28'})\n",
        "\n",
        "    qc_final = qc.groupby(['name']).agg({'courier_uuid':'count', 'total_jobs':'mean'}).sort_values(by='courier_uuid', ascending=False).reset_index()\n",
        "    qc_final=qc_final.merge(l28, how='left', on='name')\n",
        "    qc_final=qc_final.merge(more_than_28, how='left', on='name')\n",
        "\n",
        "    print('-----------------------',name,'-----------------------')\n",
        "\n",
        "    print( qc_final)\n",
        "    print (qc_total)\n",
        "\n",
        "    print('\\n','\\n','----------------------------------------------------------','\\n','\\n')\n"
      ],
      "execution_count": 41,
      "outputs": []
    },
    {
      "cell_type": "code",
      "metadata": {
        "id": "ie47YUR3cBYD"
      },
      "source": [
        "os.chdir(\"/content/121120_downloads/\")\n",
        "df=pd.read_csv(\"enr_12_10_20_CFA_v1.csv\")\n",
        "\n",
        "df=df.merge(markets, how='left', on='market_id')\n",
        "df=df[['canvas_id',\t'variant_id',\t'courier_uuid',\t'market_id', 'name']]\n",
        "\n",
        "df=df.rename(columns={\"name\": \"market\"})\n",
        "df.to_csv(\"enr_12_10_20_CFA_v1.csv\")\n",
        "\n",
        "df=pd.read_csv(\"enr_12_10_20_McD_v1.csv\")\n",
        "\n",
        "df=df.merge(markets, how='left', on='market_id')\n",
        "df=df[['canvas_id',\t'variant_id',\t'courier_uuid',\t'market_id', 'name']]\n",
        "\n",
        "df=df.rename(columns={\"name\": \"market\"})\n",
        "df.to_csv(\"enr_12_10_20_McD_v1.csv\")"
      ],
      "execution_count": 42,
      "outputs": []
    },
    {
      "cell_type": "code",
      "metadata": {
        "id": "y40h5h1H2MgU",
        "colab": {
          "base_uri": "https://localhost:8080/"
        },
        "outputId": "b68a9e1e-62ba-4b2f-b6c8-cdb8f313aecd"
      },
      "source": [
        "os.chdir('/content/121120_downloads/')\n",
        "files=os.listdir()\n",
        "for file in files:\n",
        "    if file=='.ipynb_checkpoints':\n",
        "      pass\n",
        "    elif file=='.config':\n",
        "      pass\n",
        "    else:\n",
        "      print (file)\n",
        "      #enrollment(file)\n",
        "      checks(file)\n"
      ],
      "execution_count": 44,
      "outputs": [
        {
          "output_type": "stream",
          "text": [
            "enr_12_10_20_CFA_v1.csv\n",
            "----------------------- enr_12_10_20_CFA_v1.csv -----------------------\n",
            "                   name  courier_uuid  total_jobs     L28  More than 28\n",
            "0               Atlanta          9606  131.506894  3616.0        4652.0\n",
            "1         Washington DC          6578  205.602488  2803.0        2583.0\n",
            "2               Chicago          6116  166.953644  2110.0        2830.0\n",
            "3    Dallas / Ft. Worth          5688  115.298643  2021.0        3139.0\n",
            "4               Orlando          5215  100.105106  1859.0        2822.0\n",
            "..                  ...           ...         ...     ...           ...\n",
            "139         Anniston AL             2    4.000000     NaN           2.0\n",
            "140       Waynesboro VA             1         NaN     NaN           NaN\n",
            "141       Alexandria LA             1   13.000000     1.0           NaN\n",
            "142         Columbus IN             1   37.000000     1.0           NaN\n",
            "143         Staunton VA             1    2.000000     NaN           1.0\n",
            "\n",
            "[144 rows x 5 columns]\n",
            "                   canvas_id  courier_uuid\n",
            "0  12_10_2020_canvas_CFA_BPD        102162\n",
            "\n",
            " \n",
            " ---------------------------------------------------------- \n",
            " \n",
            "\n",
            "enr_12_10_20_McD_v1.csv\n",
            "----------------------- enr_12_10_20_McD_v1.csv -----------------------\n",
            "              name  courier_uuid  total_jobs   L28  More than 28\n",
            "0    Washington DC          6578  205.602488  2803          2583\n",
            "1      Kansas City          2981  199.839906  1261          1300\n",
            "2        Baltimore          2294  131.023362   799          1170\n",
            "3            Omaha           625  122.228243   273           336\n",
            "4    Wilmington DE           490  145.524520   212           257\n",
            "5    Woodbridge VA           483  173.677494   224           207\n",
            "6          Lincoln           339  130.057576   154           176\n",
            "7     Frederick MD           153  125.359155    65            77\n",
            "8     Annapolis MD           152  181.902256    69            64\n",
            "9      Lawrence KS           149   96.248276    60            85\n",
            "10   Winchester VA           133  143.961832    81            50\n",
            "11  Martinsburg WV            29   51.178571     7            21\n",
            "12   California MD            25  104.565217    10            13\n",
            "                   canvas_id  courier_uuid\n",
            "0  12_10_2020_canvas_McD_BPD         14431\n",
            "\n",
            " \n",
            " ---------------------------------------------------------- \n",
            " \n",
            "\n"
          ],
          "name": "stdout"
        }
      ]
    }
  ]
}